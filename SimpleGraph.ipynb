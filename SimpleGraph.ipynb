{
 "cells": [
  {
   "cell_type": "code",
   "execution_count": 253,
   "metadata": {},
   "outputs": [],
   "source": [
    "import gym\n",
    "import json \n",
    "import numpy as np \n",
    "import networkx\n",
    "import matplotlib.pyplot as plt\n",
    "import math\n",
    "from math import sin, cos, radians, pi\n",
    "from matplotlib import collections  as mc\n",
    "import matplotlib.lines as mlines\n",
    "%matplotlib inline"
   ]
  },
  {
   "cell_type": "code",
   "execution_count": 465,
   "metadata": {},
   "outputs": [],
   "source": [
    "simpleGraph = networkx.Graph()\n",
    "\n",
    "posA = [0, 0]\n",
    "posB = [1, 1]\n",
    "posC = [1, 2]\n",
    "posD = [2, 2]\n",
    "posE = [3, 3]\n",
    "posF = [4, 4]\n",
    "posG = [5, 5]\n",
    "posZ = [7, 6]\n",
    "\n",
    "simpleGraph.add_node(\"A\", p = posA)\n",
    "simpleGraph.add_node(\"B\", p = posB)\n",
    "simpleGraph.add_node(\"C\", p = posC)\n",
    "simpleGraph.add_node(\"D\", p = posD)\n",
    "simpleGraph.add_node(\"E\", p = posE)\n",
    "simpleGraph.add_node(\"F\", p = posF)\n",
    "simpleGraph.add_node(\"G\", p = posG)\n",
    "simpleGraph.add_node(\"Z\", p = posZ)\n",
    "\n",
    "simpleGraph.add_edge(\"A\", \"B\")\n",
    "simpleGraph.add_edge(\"A\", \"C\")\n",
    "simpleGraph.add_edge(\"B\", \"D\")\n",
    "simpleGraph.add_edge(\"C\", \"D\")\n",
    "simpleGraph.add_edge(\"D\", \"E\")\n",
    "simpleGraph.add_edge(\"A\", \"E\")\n",
    "simpleGraph.add_edge(\"E\", \"F\")\n",
    "simpleGraph.add_edge(\"E\", \"G\")\n",
    "simpleGraph.add_edge(\"G\", \"Z\")"
   ]
  },
  {
   "cell_type": "code",
   "execution_count": 466,
   "metadata": {},
   "outputs": [
    {
     "data": {
      "image/png": "[encoded data removed]",
      "text/plain": [
       "<Figure size 432x288 with 1 Axes>"
      ]
     },
     "metadata": {},
     "output_type": "display_data"
    }
   ],
   "source": [
    "\n",
    "networkx.draw(simpleGraph, with_labels = True)\n",
    "# networkx.draw_networkx_nodes(simpleGraph, pos=networkx.spring_layout(simpleGraph))\n",
    "# networkx.draw_networkx_edges(simpleGraph, pos=networkx.spring_layout(simpleGraph))\n",
    "\n",
    "# networkx.draw_networkx_labels(simpleGraph, pos=networkx.spring_layout(simpleGraph))\n",
    "plt.show()"
   ]
  },
  {
   "cell_type": "code",
   "execution_count": 461,
   "metadata": {},
   "outputs": [],
   "source": [
    "\n",
    "    \n",
    "# def angleToPos(angle, x0, y0, radius=0.5):\n",
    "#     rads = math.radians(angle) \n",
    "#     x = x0 + (radius * cos(rads))\n",
    "#     y = x0 + (radius * sin(rads))\n",
    "#     return (x, y)\n",
    "\n",
    "def angleToPos(theta, x0, y0, d=0.5):\n",
    "    theta_rad = radians(theta)\n",
    "    return d*cos(theta_rad), d*sin(theta_rad)"
   ]
  },
  {
   "cell_type": "code",
   "execution_count": 467,
   "metadata": {},
   "outputs": [],
   "source": [
    "def getNodeXY(node):\n",
    "    return simpleGraph.node[node][\"p\"]\n",
    "\n",
    "def getAngleToNextNode(nodeA, nodeB):\n",
    "    posA = getNodeXY(nodeA)\n",
    "    posB = getNodeXY(nodeB)\n",
    "    paX = posA[0]\n",
    "    paY = posA[1]\n",
    "    pbX = posB[0]\n",
    "    pbY = posB[1]\n",
    "    rads = math.atan2(pbY-paY, pbX-paY)\n",
    "    degs = math.degrees(rads)\n",
    "    return degs\n",
    "\n",
    "def getAnglesToNeighbors(node, referenceAngle):\n",
    "    angles = []\n",
    "    neighbors = simpleGraph.neighbors(node)\n",
    "    for n in neighbors:\n",
    "        d = getAngleToNextNode(node, n) - referenceAngle\n",
    "        if d < -180:\n",
    "            d = d + 360\n",
    "        angles.append(d)\n",
    "    return angles\n",
    "\n",
    "for node in simpleGraph.nodes:\n",
    "    simpleGraph.node[node]['connectionAngles'] = getAnglesToNeighbors(node, 0)\n",
    "    \n",
    "    "
   ]
  },
  {
   "cell_type": "code",
   "execution_count": 468,
   "metadata": {},
   "outputs": [],
   "source": [
    "\n",
    "\n",
    "def actionFromAngle(angle):\n",
    "    if angle == 0:\n",
    "        return \"STRAIGHT\"\n",
    "    elif angle > 0 and angle < 60:\n",
    "        return \"SLIGHT_LEFT\"\n",
    "    elif angle >=45 and angle < 120:\n",
    "        return \"LEFT\"\n",
    "    elif angle >= 120 and angle < 180:\n",
    "        return \"HARD_LEFT\"\n",
    "    elif angle == 180 or angle == -180:\n",
    "        return \"U_TURN\"\n",
    "    elif angle > -60 and angle < 0:\n",
    "        return \"SLIGHT_RIGHT\"\n",
    "    elif angle <= -60 and angle > -120:\n",
    "        return \"RIGHT\"\n",
    "    elif angle <= -120 and angle > -180:\n",
    "        return \"HARD_RIGHT\"\n",
    "    else:\n",
    "        raise ValueError(\"invalid angle\")\n",
    "\n",
    "\n",
    "\n",
    "\n",
    "\n",
    "def getReferenceAngle(oldNode, newNode):\n",
    "    return getAngleToNextNode(oldNode, newNode)\n",
    "\n",
    "def getConnections(node):\n",
    "    return list(simpleGraph.neighbors(node))\n",
    "\n",
    "\n",
    "class Agent():\n",
    "    def __init__(self, graph, initialNode, targetNode, facingAngle, verbose=True):\n",
    "        self.atNode = initialNode\n",
    "        self.targetNode = targetNode\n",
    "        self.facing = facingAngle\n",
    "        self.actions = []\n",
    "        self.history = []\n",
    "        self.coords = getNodeXY(initialNode)\n",
    "        self.x = self.coords[0]\n",
    "        self.y = self.coords[1]\n",
    "        self.verbose = verbose\n",
    "        self.graph = graph\n",
    "        self.neighbors = getConnections(initialNode)\n",
    "        self.getActions()\n",
    "        self.action_space = [\"STRAIGHT\", \"LEFT\", \"SLIGHT_LEFT\", \"HARD_LEFT\", \"U_TURN\", \"SLIGHT_RIGHT\", \"RIGHT\", \"HARD_RIGHT\"]\n",
    "        print self.actions\n",
    "        self.connnectingAngles = getAnglesToNeighbors(self.atNode, self.facing)\n",
    "        \n",
    "    def moveToNode(self, toNode):\n",
    "        neighbors = getConnections(self.atNode)\n",
    "        if toNode not in neighbors:\n",
    "            print \"Move not allowed\"\n",
    "            return False\n",
    "        _x = self.x\n",
    "        _y = self.y\n",
    "        self.facing = getReferenceAngle(self.atNode, toNode)\n",
    "        self.atNode = toNode ## advance\n",
    "        self.coords = getNodeXY(self.atNode)\n",
    "        self.x = self.coords[0]\n",
    "        self.y = self.coords[1]\n",
    "        \n",
    "        self.history.append([[_x, _y], [self.x, self.y]])\n",
    "        self.neighbors = getConnections(toNode)\n",
    "        self.connnectingAngles = getAnglesToNeighbors(self.atNode, self.facing)\n",
    "        \n",
    "        self.getActions()\n",
    "\n",
    "        print \"Moved to node: \" + self.atNode\n",
    "        print \"Set reference angle to \", self.facing\n",
    "        if self.verbose:\n",
    "            self.drawWorld()\n",
    "        return True \n",
    "    \n",
    "    \n",
    "    def getActions(self):\n",
    "        _connectionAngles = getAnglesToNeighbors(self.atNode, self.facing)\n",
    "        self.actions = [] ## reset\n",
    "        for angle in _connectionAngles:\n",
    "            action = actionFromAngle(angle)\n",
    "            if self.verbose:\n",
    "                print (\"angle: \", angle, \" --> \", action)\n",
    "\n",
    "            self.actions.append(action)\n",
    "    \n",
    "    def drawWorld(self):\n",
    "        ## init --> TODO: do this with self.graph\n",
    "        pts = [posA, posB, posC, posD, posE, posF, posG, posZ]\n",
    "        labs = [\"A\", \"B\", \"C\", \"D\", \"E\", \"F\", \"G\", \"Z\"]\n",
    "        xs = [p[0] for p in pts]\n",
    "        ys = [p[1] for p in pts]\n",
    "        \n",
    "        ## labels \n",
    "        for i in range(0, len(labs)):\n",
    "            plt.text(xs[i], ys[i], labs[i])\n",
    "        plt.title(\"Simple graph in cartesian space\")\n",
    "\n",
    "        ## path history\n",
    "        for segment in self.history:   \n",
    "            ax = plt.gca()\n",
    "            _x = (segment[0][0], segment[1][0])\n",
    "            _y = (segment[0][1], segment[1][1])\n",
    "\n",
    "            l = mlines.Line2D(_x, _y)\n",
    "    \n",
    "            ax.add_line(l)\n",
    "        \n",
    "        ## connected paths\n",
    "        for node in self.graph.nodes:\n",
    "            \n",
    "            _source = self.graph.node[node]['p']\n",
    "            _targets = self.graph.neighbors(node)\n",
    "            for t in _targets:\n",
    "                _target = self.graph.node[t]['p']\n",
    "\n",
    "                ax = plt.gca()\n",
    "                _x = (_source[0], _target[0])\n",
    "                _y = (_source[1], _target[1])\n",
    "\n",
    "                l = mlines.Line2D(_x, _y, color='gray')\n",
    "                ax.add_line(l)\n",
    "\n",
    "        ## node points\n",
    "        plt.scatter(xs, ys)\n",
    "\n",
    "        ## direction arrow \n",
    "        x1, y1 = angleToPos(self.facing, self.x, self.y)\n",
    "        plt.arrow(self.x, self.y, x1, y1, color='red', zorder=10)\n",
    "        plt.show()\n",
    "        \n",
    "    def turn(self, direction):\n",
    "        if direction not in self.action_space:\n",
    "            raise ValueError(\"Invalid action command\")\n",
    "        else:\n",
    "            try:\n",
    "                _actionIdx = self.actions.index(direction)\n",
    "                _toNode = self.neighbors[_actionIdx]\n",
    "                self.moveToNode(_toNode)\n",
    "                return True\n",
    "            except ValueError:\n",
    "                return False ## negative reward would go here\n",
    "            \n"
   ]
  },
  {
   "cell_type": "code",
   "execution_count": 469,
   "metadata": {},
   "outputs": [
    {
     "name": "stdout",
     "output_type": "stream",
     "text": [
      "('angle: ', -26.56505117707799, ' --> ', 'SLIGHT_RIGHT')\n",
      "('angle: ', -45.0, ' --> ', 'SLIGHT_RIGHT')\n",
      "('angle: ', -45.0, ' --> ', 'SLIGHT_RIGHT')\n",
      "['SLIGHT_RIGHT', 'SLIGHT_RIGHT', 'SLIGHT_RIGHT']\n"
     ]
    },
    {
     "data": {
      "image/png": "[encoded data removed]",
      "text/plain": [
       "<Figure size 432x288 with 1 Axes>"
      ]
     },
     "metadata": {},
     "output_type": "display_data"
    }
   ],
   "source": [
    "T = Agent(simpleGraph, \"A\", \"Z\", 90)\n",
    "T.drawWorld()"
   ]
  },
  {
   "cell_type": "code",
   "execution_count": 470,
   "metadata": {},
   "outputs": [
    {
     "data": {
      "text/plain": [
       "False"
      ]
     },
     "execution_count": 470,
     "metadata": {},
     "output_type": "execute_result"
    }
   ],
   "source": [
    "T.turn(\"RIGHT\")"
   ]
  },
  {
   "cell_type": "code",
   "execution_count": 471,
   "metadata": {},
   "outputs": [
    {
     "data": {
      "text/plain": [
       "False"
      ]
     },
     "execution_count": 471,
     "metadata": {},
     "output_type": "execute_result"
    }
   ],
   "source": [
    "T.turn(\"LEFT\")"
   ]
  },
  {
   "cell_type": "code",
   "execution_count": 323,
   "metadata": {},
   "outputs": [
    {
     "name": "stdout",
     "output_type": "stream",
     "text": [
      "Moved to node: C\n",
      "Set reference angle to  180.0\n",
      "\n",
      "\n"
     ]
    },
    {
     "data": {
      "image/png": "[encoded data removed]",
      "text/plain": [
       "<Figure size 432x288 with 1 Axes>"
      ]
     },
     "metadata": {},
     "output_type": "display_data"
    },
    {
     "name": "stdout",
     "output_type": "stream",
     "text": [
      "[45.0, -180.0, -45.0]\n"
     ]
    },
    {
     "data": {
      "text/plain": [
       "180.0"
      ]
     },
     "execution_count": 323,
     "metadata": {},
     "output_type": "execute_result"
    }
   ],
   "source": [
    "T.moveToNode(\"C\")\n",
    "T.turn(\"right\")\n",
    "T.facing"
   ]
  },
  {
   "cell_type": "code",
   "execution_count": 324,
   "metadata": {},
   "outputs": [
    {
     "name": "stdout",
     "output_type": "stream",
     "text": [
      "Moved to node: D\n",
      "Set reference angle to  135.0\n",
      "\n",
      "\n",
      "\n"
     ]
    },
    {
     "data": {
      "image/png": "[encoded data removed]",
      "text/plain": [
       "<Figure size 432x288 with 1 Axes>"
      ]
     },
     "metadata": {},
     "output_type": "display_data"
    },
    {
     "data": {
      "text/plain": [
       "True"
      ]
     },
     "execution_count": 324,
     "metadata": {},
     "output_type": "execute_result"
    }
   ],
   "source": [
    "T.moveToNode(\"D\")"
   ]
  },
  {
   "cell_type": "code",
   "execution_count": 303,
   "metadata": {},
   "outputs": [
    {
     "name": "stdout",
     "output_type": "stream",
     "text": [
      "[[[0, 0], [1, 1]], [[1, 1], [0, 1]], [[0, 1], [0, 2]], [[0, 2], [2, 2]]]\n",
      "Moved to node: E\n",
      "Set reference angle to  0.0\n",
      "New Actions are:  None\n",
      "[[0, 0], [1, 1]]\n",
      "\n",
      "\n",
      "\n",
      "\n"
     ]
    },
    {
     "data": {
      "image/png": "[encoded data removed]",
      "text/plain": [
       "<Figure size 432x288 with 1 Axes>"
      ]
     },
     "metadata": {},
     "output_type": "display_data"
    },
    {
     "data": {
      "text/plain": [
       "True"
      ]
     },
     "execution_count": 303,
     "metadata": {},
     "output_type": "execute_result"
    }
   ],
   "source": [
    "T.moveToNode(\"E\")"
   ]
  },
  {
   "cell_type": "code",
   "execution_count": 304,
   "metadata": {},
   "outputs": [
    {
     "name": "stdout",
     "output_type": "stream",
     "text": [
      "[[[0, 0], [1, 1]], [[1, 1], [0, 1]], [[0, 1], [0, 2]], [[0, 2], [2, 2]], [[2, 2], [5, 5]]]\n",
      "Moved to node: G\n",
      "Set reference angle to  45.0\n",
      "New Actions are:  None\n",
      "[[0, 0], [1, 1]]\n",
      "\n",
      "\n",
      "\n",
      "\n",
      "\n"
     ]
    },
    {
     "data": {
      "image/png": "[encoded data removed]",
      "text/plain": [
       "<Figure size 432x288 with 1 Axes>"
      ]
     },
     "metadata": {},
     "output_type": "display_data"
    },
    {
     "data": {
      "text/plain": [
       "True"
      ]
     },
     "execution_count": 304,
     "metadata": {},
     "output_type": "execute_result"
    }
   ],
   "source": [
    "T.moveToNode(\"G\")"
   ]
  },
  {
   "cell_type": "code",
   "execution_count": 305,
   "metadata": {},
   "outputs": [
    {
     "name": "stdout",
     "output_type": "stream",
     "text": [
      "[[[0, 0], [1, 1]], [[1, 1], [0, 1]], [[0, 1], [0, 2]], [[0, 2], [2, 2]], [[2, 2], [5, 5]], [[5, 5], [5, 6]]]\n",
      "Moved to node: Z\n",
      "Set reference angle to  90.0\n",
      "New Actions are:  None\n",
      "[[0, 0], [1, 1]]\n",
      "\n",
      "\n",
      "\n",
      "\n",
      "\n",
      "\n"
     ]
    },
    {
     "data": {
      "image/png": "[encoded data removed]",
      "text/plain": [
       "<Figure size 432x288 with 1 Axes>"
      ]
     },
     "metadata": {},
     "output_type": "display_data"
    },
    {
     "data": {
      "text/plain": [
       "True"
      ]
     },
     "execution_count": 305,
     "metadata": {},
     "output_type": "execute_result"
    }
   ],
   "source": [
    "T.moveToNode(\"Z\")"
   ]
  },
  {
   "cell_type": "code",
   "execution_count": null,
   "metadata": {
    "collapsed": true
   },
   "outputs": [],
   "source": []
  }
 ],
 "metadata": {
  "kernelspec": {
   "display_name": "Python 2",
   "language": "python",
   "name": "python2"
  },
  "language_info": {
   "codemirror_mode": {
    "name": "ipython",
    "version": 2
   },
   "file_extension": ".py",
   "mimetype": "text/x-python",
   "name": "python",
   "nbconvert_exporter": "python",
   "pygments_lexer": "ipython2",
   "version": "2.7.15"
  }
 },
 "nbformat": 4,
 "nbformat_minor": 2
}
